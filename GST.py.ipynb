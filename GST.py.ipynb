{
 "cells": [
  {
   "cell_type": "code",
   "execution_count": 101,
   "metadata": {},
   "outputs": [],
   "source": [
    "class Node():\n",
    "    \"\"\"A node in the suffix tree. \n",
    "    \n",
    "    value\n",
    "        As a identifier, custom for each node except leav nodes\n",
    "    \"\"\"\n",
    "    def __init__(self,value = \"$\"):\n",
    "        self.part_of_string = []\n",
    "        self.edges = []\n",
    "        self.identifier = value\n",
    "    \n",
    "    def set_part_of_string(self,num):\n",
    "        \"\"\"\n",
    "        Defines which substring is \"part\" of the node\n",
    "        \"\"\"\n",
    "        self.part_of_string.append(num)\n",
    "        \n",
    "    def set_edges(self,edge):\n",
    "        \"\"\"\n",
    "        the edge set of the node\n",
    "        \"\"\"\n",
    "        self.edges.append(edge)\n",
    "    \n",
    "    def __repr__(self):\n",
    "        return \"Node : {}\\n  Part of string: {} \\n  Children: {}\".format(self.identifier,self.part_of_string,self.edges)"
   ]
  },
  {
   "cell_type": "code",
   "execution_count": 108,
   "metadata": {},
   "outputs": [
    {
     "name": "stdout",
     "output_type": "stream",
     "text": [
      "Node : 1\n",
      "  Part of string: [1] \n",
      "  Children: [Value: A, From Node: 1, To Node: 2]\n",
      "Node : 2\n",
      "  Part of string: [3] \n",
      "  Children: [Value: B, From Node: 2, To Node: $]\n"
     ]
    }
   ],
   "source": [
    "node1 = Node(1)\n",
    "node1.set_part_of_string(1)\n",
    "node1.set_edges(edge)\n",
    "print(node1)\n",
    "\n",
    "node2 = Node(2)\n",
    "node2.set_part_of_string(3)\n",
    "node2.set_edges(edge2)\n",
    "print(node2)"
   ]
  },
  {
   "cell_type": "code",
   "execution_count": 187,
   "metadata": {},
   "outputs": [],
   "source": [
    "class Edge():\n",
    "    \"\"\"\n",
    "    An Edge in the suffix tree\n",
    "    \n",
    "    value\n",
    "        The value/label of the edge\n",
    "    \n",
    "    parrent_node\n",
    "        The node at which the edge starts\n",
    "        \n",
    "    child_node\n",
    "        The Node where the edge is heading to /ending\n",
    "    \"\"\"\n",
    "    \n",
    "    def __init__(self,value,parrent_node,child_node=Node()):\n",
    "        self.value= value\n",
    "        self.from_node = parrent_node\n",
    "        self.to_node = child_node\n",
    "        \n",
    "    def set_to_node(self,node):\n",
    "        \"\"\"\n",
    "        Sets the Node to which the edge is heading\n",
    "        \"\"\"\n",
    "        self.to_node = node\n",
    "        \n",
    "    def __repr__(self):\n",
    "        return \"Value: {}, From Node: {}, To Node: {}\\n\".format(self.value,self.from_node.identifier,self.to_node.identifier)  \n"
   ]
  },
  {
   "cell_type": "code",
   "execution_count": 188,
   "metadata": {},
   "outputs": [
    {
     "name": "stdout",
     "output_type": "stream",
     "text": [
      "Value: A, From Node: 1, To Node: 2\n",
      "\n",
      "Value: B, From Node: 2, To Node: $\n",
      "\n"
     ]
    }
   ],
   "source": [
    "edge = Edge(\"A\",node1,node2)\n",
    "edge2 = Edge(\"B\",node2)\n",
    "print(edge)\n",
    "print(edge2)"
   ]
  },
  {
   "cell_type": "code",
   "execution_count": 709,
   "metadata": {},
   "outputs": [],
   "source": [
    "class GenralizedSuffixTree():\n",
    "    \"\"\"\n",
    "    A naiv implementation of the generalized suffix tree \n",
    "    \"\"\"\n",
    "    def __init__(self,sequences):\n",
    "        \"\"\"\n",
    "        sequences\n",
    "            A list of strings which should be added to the GST\n",
    "            \n",
    "        identifier\n",
    "            Starting identifier to label the nodes\n",
    "            \n",
    "        root\n",
    "            root node of the GST\n",
    "        \"\"\"\n",
    "        self.sequences = sequences\n",
    "        self.node_identifier = 0\n",
    "        self.root = Node(0)\n",
    "    \n",
    "    \n",
    "    def add_suffix(self,suffix,part_of_string):\n",
    "        \"\"\"\n",
    "            Adds Suffix to the existing SuffixTree\n",
    "            \n",
    "            suffix:\n",
    "                a suffix of a sequence\n",
    "            \n",
    "            part_of_string:\n",
    "                number indicating to which sequence the current suffix belongs\n",
    "        \"\"\"\n",
    "        suffix = suffix\n",
    "        # root node as current node\n",
    "        current_node = self.root\n",
    "        # for every character in the suffix\n",
    "        while suffix:\n",
    "            char=suffix[0]\n",
    "            #create list of edges from node\n",
    "            edges = [edge.value for edge in current_node.edges]\n",
    "            # Case 1: char is not an edge of the current node\n",
    "            if char not in edges:\n",
    "                # increase node_identifier for next node\n",
    "                self.node_identifier += 1\n",
    "                \n",
    "                # if the next node is not a end node (because there is only one char left in the suffix)\n",
    "                if len(suffix) > 1:\n",
    "                    #create new Node with label\n",
    "                    child_node = Node(self.node_identifier)\n",
    "                else:\n",
    "                    #create new node with end label $\n",
    "                    child_node = Node()\n",
    "                \n",
    "                # the new node is a part of the current suffix\n",
    "                if len(suffix) <= 1:\n",
    "                    child_node.set_part_of_string(part_of_string)\n",
    "                \n",
    "                #Here we create a new edge with the current char as value, from the current node to the child node\n",
    "                current_node.set_edges(Edge(char,current_node,child_node))\n",
    "                \n",
    "                # now we change our current node to the new created node\n",
    "                current_node= child_node\n",
    "                # and shorten the suffix by the character we just added into the tree\n",
    "                suffix = suffix[1:]\n",
    "            \n",
    "            # Case 2: char is already an edge of the current node\n",
    "            else:\n",
    "                \n",
    "                while True:\n",
    "                    if len(suffix) <= 1:\n",
    "                        current_node.set_part_of_string(part_of_string)\n",
    "                    #find the edge that corresponds to the char of our suffix\n",
    "                    for edge in current_node.edges:\n",
    "                        if char == edge.value:\n",
    "                            #we set our current node to the \"to_node\" of the edge in which we found our char\n",
    "                            current_node = edge.to_node\n",
    "                            #the current node is a part of the current suffix\n",
    "                            #  shorten the suffix by the character we already have in the tree\n",
    "                            suffix = suffix[1:]\n",
    "                            break\n",
    "                    break\n",
    "                        \n",
    "    \n",
    "    def construct_tree(self):\n",
    "        \"\"\"\n",
    "        Constructs the tree given the input Sequences using the add function\n",
    "        \"\"\"\n",
    "        for part_of_string, seq in enumerate(self.sequences):\n",
    "            for suffix in self.suffix(seq):\n",
    "                self.add_suffix(suffix,part_of_string)\n",
    "        \n",
    "        return self\n",
    "    \n",
    "    \n",
    "    def prefix(self,string):\n",
    "        \"\"\"\n",
    "        Given a string, yield all the prefixes of the string starting by the whole string\n",
    "        \"\"\"\n",
    "        for i in range(len(string)):\n",
    "            string_to_yield = string\n",
    "            string = string[:-1]\n",
    "            yield string_to_yield\n",
    "            \n",
    "    def suffix(self,string):\n",
    "        \"\"\"\n",
    "        Given a string, yield all the suffixes of the string starting with the whole string\n",
    "        \"\"\"\n",
    "        end = len(string)\n",
    "        for i in range(end):\n",
    "            yield string[i:end]\n",
    "    \n",
    "    def search_all(self, pattern):\n",
    "        for prefix in self.prefix(pattern):\n",
    "            print(self.search(prefix))\n",
    "    \n",
    "    def search(self, pattern):\n",
    "        \"\"\"\n",
    "        Given a pattern, look if any prefix of the pattern is in the GST\n",
    "        \n",
    "        pattern\n",
    "            the pattern we want to search for\n",
    "        \"\"\"\n",
    "        for prefix in self.prefix(pattern):\n",
    "            print(\"\\nLooking for {}\\n\".format(prefix))\n",
    "            #set current node as root_node\n",
    "            current_node = self.root\n",
    "            \n",
    "            if not current_node.edges:\n",
    "                return False , []\n",
    "            for char in prefix:\n",
    "                char_not_found = True\n",
    "                \n",
    "                for edge in current_node.edges:\n",
    "                    if char == edge.value:\n",
    "                        char_not_found = False\n",
    "                        current_node = edge.to_node\n",
    "                        break\n",
    "                \n",
    "                if char_not_found:\n",
    "                    return False , [] \n",
    "            if current_node.identifier == \"$\":\n",
    "                return True, current_node.part_of_string\n",
    "            else:\n",
    "                return False, []\n",
    "                "
   ]
  },
  {
   "cell_type": "code",
   "execution_count": 710,
   "metadata": {},
   "outputs": [],
   "source": [
    "seqs = [\"ACCB\",\"ABCC\",\"ABBB\"]\n",
    "tree = GenralizedSuffixTree(seqs).construct_tree()"
   ]
  },
  {
   "cell_type": "code",
   "execution_count": 712,
   "metadata": {},
   "outputs": [
    {
     "name": "stdout",
     "output_type": "stream",
     "text": [
      "\n",
      "Looking for CC\n",
      "\n",
      "(False, [])\n",
      "\n",
      "Looking for C\n",
      "\n",
      "(False, [])\n"
     ]
    }
   ],
   "source": [
    "tree.search_all(\"CC\")"
   ]
  },
  {
   "cell_type": "code",
   "execution_count": 707,
   "metadata": {},
   "outputs": [
    {
     "data": {
      "text/plain": [
       "[Value: A, From Node: 0, To Node: 1,\n",
       " Value: C, From Node: 0, To Node: 5,\n",
       " Value: B, From Node: 0, To Node: 9]"
      ]
     },
     "execution_count": 707,
     "metadata": {},
     "output_type": "execute_result"
    }
   ],
   "source": [
    "tree.root.edges"
   ]
  },
  {
   "cell_type": "code",
   "execution_count": null,
   "metadata": {},
   "outputs": [],
   "source": []
  }
 ],
 "metadata": {
  "kernelspec": {
   "display_name": "Python 3",
   "language": "python",
   "name": "python3"
  },
  "language_info": {
   "codemirror_mode": {
    "name": "ipython",
    "version": 3
   },
   "file_extension": ".py",
   "mimetype": "text/x-python",
   "name": "python",
   "nbconvert_exporter": "python",
   "pygments_lexer": "ipython3",
   "version": "3.6.5"
  }
 },
 "nbformat": 4,
 "nbformat_minor": 2
}
